{
 "cells": [
  {
   "cell_type": "markdown",
   "metadata": {},
   "source": [
    "# CRNN\n",
    "\n",
    "**Intro**\n",
    "\n",
    "Dataset : Handwriting Recognition\n",
    "\n",
    "Jumlah data yang digunakan :\n",
    "- 30.000 training set\n",
    "- 3000 validation set\n",
    "- 3000 testing set"
   ]
  },
  {
   "cell_type": "markdown",
   "metadata": {},
   "source": [
    "## Configuration\n",
    "Berupa settingan value yang akan digunakan dalam penelitian."
   ]
  },
  {
   "cell_type": "code",
   "execution_count": 1,
   "metadata": {},
   "outputs": [],
   "source": [
    "# Configuration\n",
    "\n",
    "# These vars represent the cropped image shape\n",
    "H = 60 \n",
    "W = 256\n",
    "\n",
    "# Pool = 4\n",
    "# PoolSize = 2\n",
    "# LastFilter = 256\n",
    "\n",
    "UnitClass = 30 # Number of characters\n",
    "MaxInputCharLen = 24 # Max label length of input character\n",
    "MaxPredictedCharLen = 64 # Max label length of predicted character\n",
    "CTCTime = MaxPredictedCharLen - 2\n",
    "\n",
    "BATCH_SIZE = 128 # x = train_size/batch_size -> (n-epoch/x ----- )\n",
    "EPOCH = 20\n",
    "TRAIN_SIZE = 30000 # Number of training sets that is used. \n",
    "VALID_SIZE = 3000 # Number of validation sets that is used.\n",
    "TEST_SIZE = 3000 # Number of testing sets that is used."
   ]
  },
  {
   "cell_type": "markdown",
   "metadata": {},
   "source": [
    "## Variables\n",
    "Menyimpan lokasi directory yang digunakan."
   ]
  },
  {
   "cell_type": "code",
   "execution_count": 2,
   "metadata": {},
   "outputs": [],
   "source": [
    "# Define variable for directory\n",
    "def image_dir(base_img):\n",
    "    train_dir = base_img + '\\\\train_v2\\\\train'\n",
    "    test_dir = base_img + '\\\\test_v2\\\\test'\n",
    "    valid_dir = base_img + '\\\\validation_v2\\\\validation'\n",
    "    \n",
    "    return train_dir, test_dir, valid_dir\n",
    "\n",
    "def csv_dir(base_csv):\n",
    "    train_csv_dir = base_csv + '/written_name_train_v2.csv'\n",
    "    test_csv_dir = base_csv + '/written_name_test_v2.csv'\n",
    "    valid_csv_dir = base_csv + '/written_name_validation_v2.csv'\n",
    "    \n",
    "    return train_csv_dir, test_csv_dir, valid_csv_dir"
   ]
  },
  {
   "cell_type": "markdown",
   "metadata": {},
   "source": [
    "## Dataset\n",
    "Berisi function yang digunakan untuk melakukan eksplorasi dataset (pengecekan, pembersihan data) dan pemrosesan data."
   ]
  },
  {
   "cell_type": "code",
   "execution_count": 3,
   "metadata": {},
   "outputs": [],
   "source": [
    "import pandas as pd\n",
    "import numpy as np\n",
    "import cv2\n",
    "\n",
    "# DATASET\n",
    "def read_csv_dir(train, test, valid):\n",
    "    df_train = pd.read_csv(train)\n",
    "    df_test = pd.read_csv(test)\n",
    "    df_valid = pd.read_csv(valid)\n",
    "    \n",
    "    return df_train, df_test, df_valid\n",
    "\n",
    "# Check nan data in dataframe\n",
    "def nan_data(dataframe, *args):\n",
    "    \"\"\" \n",
    "    params:\n",
    "        dataframe -> data\n",
    "        *args -> label\n",
    "    \"\"\"\n",
    "    num_args=len(args)\n",
    "    \n",
    "    final_res = []\n",
    "    for data in dataframe:\n",
    "        bool_res_ = []\n",
    "        for i in range(num_args):\n",
    "            bool_res = True if ( data.isna().sum()[args[i]] != 0 ) else False\n",
    "            bool_res_.append(bool_res)\n",
    "            \n",
    "        if bool_res_.__contains__(True):\n",
    "            final_res.append(True)\n",
    "        else:\n",
    "            final_res.append(False)\n",
    "        \n",
    "        bool_res_.clear()\n",
    "        \n",
    "    return final_res\n",
    "\n",
    "# Drop nan data\n",
    "def drop_nan(dataframe, axis=0, inplace=False):\n",
    "    if not inplace:\n",
    "        df = dataframe.dropna(axis=axis, inplace=inplace)\n",
    "        return df\n",
    "    else:\n",
    "        dataframe.dropna(axis=axis, inplace=inplace)\n",
    "        return None\n",
    "\n",
    "# Reset index of data in dataframe\n",
    "def _reset_index_(dataframe, inplace=False, drop=False):\n",
    "    if not inplace:\n",
    "        df = dataframe.reset_index(inplace=inplace, drop=drop)\n",
    "        return df\n",
    "    else:\n",
    "        dataframe.reset_index(inplace=inplace, drop=drop)\n",
    "        return None \n",
    "\n",
    "def crop_image(image, dim=(64,128)):\n",
    "    # Check the input image\n",
    "    (h, w) = image.shape \n",
    "    \n",
    "    # Modify the image to the new size, if as following:\n",
    "    if h > dim[0]:\n",
    "        image = image[:dim[0], :]\n",
    "    \n",
    "    if w > dim[1]:\n",
    "        image = image[:, :dim[1]]\n",
    "    \n",
    "    # Create white blank image\n",
    "    new_img = np.ones(dim)*255 \n",
    "\n",
    "    # Fill the new image with the array we got after cropping(modifying)\n",
    "    new_img[:h, :w] = image \n",
    "    \n",
    "    # Here I'm just rotating the image to make it easier when reshaping and to ensure the integration of its data\n",
    "    return cv2.rotate(new_img, cv2.ROTATE_90_CLOCKWISE)\n",
    "\n",
    "# Label the character of the input name to num and vice versa\n",
    "def label_name(name, name_to_num=True):\n",
    "    # Character that is written in dataset (csv file) \n",
    "    alphabets = u\"ABCDEFGHIJKLMNOPQRSTUVWXYZ'- \"\n",
    "    \n",
    "    label = []\n",
    "    if name_to_num:\n",
    "        # Convert the name to uppercase\n",
    "        name = name.upper()\n",
    "        for chars in name:\n",
    "            num = alphabets.find(chars)\n",
    "            label.append(num)\n",
    "        return np.array(label)\n",
    "    \n",
    "    else:\n",
    "        chars=\"\"\n",
    "        for nums in name:\n",
    "            chars += alphabets[nums]\n",
    "        return chars\n",
    "\n",
    "# Funct to label each char of the name in dataframe\n",
    "def label(df, size, max_char_len, label_base):\n",
    "    # Create new Label (output label) for dataset padded with the label of each char of the name\n",
    "    y_ = np.ones([size, max_char_len])*-1\n",
    "    # This var counts the length of the name. \n",
    "    y_len = np.zeros([size, 1])\n",
    "    \n",
    "    # Label all the training set\n",
    "        # The remaining unlabeled pads will be padded with -1\n",
    "    for i in range(size):\n",
    "        y_len[i] = len(df.loc[i, label_base])\n",
    "        y_[i, :len(df.loc[i, label_base])] = label_name(name=df.loc[i, label_base])\n",
    "    \n",
    "    return y_, y_len\n",
    "        "
   ]
  },
  {
   "cell_type": "markdown",
   "metadata": {},
   "source": [
    "## Handwriting\n",
    "Main"
   ]
  },
  {
   "cell_type": "code",
   "execution_count": 4,
   "metadata": {},
   "outputs": [],
   "source": [
    "import cv2\n",
    "import os\n",
    "import numpy as np\n",
    "\n",
    "def IMGCrop(path, size, data):\n",
    "    img_arr = []\n",
    "    for i in range(size):\n",
    "        img_dir = os.path.join(path, data.loc[i, 'FILENAME'])\n",
    "        img = cv2.imread(img_dir, cv2.IMREAD_GRAYSCALE) # Grayscale channel 1\n",
    "        img = crop_image(img, dim=(H, W))\n",
    "        \n",
    "        # cv2.imshow('image', img)\n",
    "        # cv2.waitKey(0) \n",
    "        # cv2.destroyAllWindows()\n",
    "\n",
    "        # Normalize the value of the image\n",
    "        img = img/255.\n",
    "        img_arr.append(img)\n",
    "    \n",
    "    img_arr = np.array(img_arr)\n",
    "    return img_arr"
   ]
  },
  {
   "cell_type": "code",
   "execution_count": 33,
   "metadata": {},
   "outputs": [
    {
     "name": "stdout",
     "output_type": "stream",
     "text": [
      "(330961, 2)\n",
      "(41370, 2)\n",
      "{'train_nan': True, 'valid_nan': True}\n",
      "CURRENT TRAIN :  (330294, 2)\n",
      "CURRENT_VALID :  (41280, 2)\n",
      "                FILENAME       IDENTITY\n",
      "330289  TRAIN_330957.jpg          LENNY\n",
      "330290  TRAIN_330958.jpg        TIFFANY\n",
      "330291  TRAIN_330959.jpg  COUTINHO DESA\n",
      "330292  TRAIN_330960.jpg         MOURAD\n",
      "330293  TRAIN_330961.jpg        HELOISE\n"
     ]
    }
   ],
   "source": [
    "BASE = 'C:\\\\Clarenti\\\\Data\\\\Project\\\\ML\\\\Program\\\\Dataset\\\\Recognition\\\\Handwriting'\n",
    "\n",
    "# DEFINE VARIABLES\n",
    "train_dir, test_dir, valid_dir = image_dir(BASE)\n",
    "train_csv_dir, test_csv_dir, valid_csv_dir = csv_dir(BASE)\n",
    "\n",
    "# READ CSV\n",
    "df_train, df_test, df_valid = read_csv_dir(train_csv_dir, test_csv_dir, valid_csv_dir)\n",
    "print(df_train.shape)\n",
    "print(df_valid.shape)\n",
    "\n",
    "# CHECK FOR NAN DATA\n",
    "is_nan = nan_data([df_train, df_valid], 'FILENAME', 'IDENTITY')\n",
    "print({'train_nan':is_nan[0], 'valid_nan':is_nan[1]})\n",
    "\n",
    "# DROP NAN\n",
    "drop_nan(df_train, inplace=True)\n",
    "drop_nan(df_valid, inplace=True)\n",
    "drop_nan(df_test, inplace=True)\n",
    "\n",
    "# REMOVE INVALID DATA\n",
    "df_train = df_train[df_train['IDENTITY']!='UNREADABLE']\n",
    "df_valid = df_valid[df_valid['IDENTITY']!='UNREADABLE']\n",
    "df_test = df_test[df_test['IDENTITY']!='UNREADABLE']\n",
    "\n",
    "print('CURRENT TRAIN : ', df_train.shape)\n",
    "print('CURRENT_VALID : ', df_valid.shape)\n",
    "\n",
    "# RESET INDEX ON DATAFRAME AFTER FILTERING\n",
    "_reset_index_(df_train, inplace=True, drop=True)\n",
    "_reset_index_(df_valid, inplace=True, drop=True)\n",
    "_reset_index_(df_test, inplace=True, drop=True)\n",
    "\n",
    "print(df_train.tail(5))\n"
   ]
  },
  {
   "cell_type": "code",
   "execution_count": 34,
   "metadata": {},
   "outputs": [
    {
     "name": "stdout",
     "output_type": "stream",
     "text": [
      "CURRENT TRAIN :  (30000, 256, 60)\n",
      "CURRENT VALID :  (3000, 256, 60)\n",
      "CURRENT TRAIN AFTER RESHAPE :  (30000, 256, 60, 1)\n",
      "CURRENT VALID AFTER RESHAPE :  (3000, 256, 60, 1)\n"
     ]
    }
   ],
   "source": [
    "#==========================================================    \n",
    "# IMAGE PREPROCESSING\n",
    "\n",
    "# CROP IMAGE\n",
    "X_train = IMGCrop(train_dir, TRAIN_SIZE, df_train)\n",
    "X_valid = IMGCrop(valid_dir, VALID_SIZE, df_valid)\n",
    "X_test = IMGCrop(test_dir, TEST_SIZE, df_test)\n",
    "\n",
    "print('CURRENT TRAIN : ', X_train.shape)\n",
    "print('CURRENT VALID : ', X_valid.shape)\n",
    "\n",
    "# RESHAPE\n",
    "X_train = np.array(X_train).reshape(-1, W, H, 1) # -1 -> =value digabung/diwrap jadi 1\n",
    "X_valid = np.array(X_valid).reshape(-1, W, H, 1)\n",
    "X_test = np.array(X_test).reshape(-1, W, H, 1)\n",
    "\n",
    "print('CURRENT TRAIN AFTER RESHAPE : ', X_train.shape)\n",
    "print('CURRENT VALID AFTER RESHAPE : ', X_valid.shape)"
   ]
  },
  {
   "cell_type": "markdown",
   "metadata": {},
   "source": [
    "## Model and CTC\n",
    "\n",
    "Digunakan untuk melakukan interpretasi terhadap variable input dengan label target.\n",
    "\n",
    "*CTC approach was introduced, originally for speech recognition \n",
    "and afterwards also for handwriting recognition. CTC makes it \n",
    "possible to avoid the previously mentioned direct alignment \n",
    "between the input variables and the target labels by interpreting the \n",
    "output of the network as a probability distribution over all possible \n",
    "label sequences on the given input sequence.*"
   ]
  },
  {
   "cell_type": "code",
   "execution_count": 7,
   "metadata": {},
   "outputs": [],
   "source": [
    "import os\n",
    "import cv2\n",
    "import math\n",
    "import numpy as np\n",
    "import matplotlib.pyplot as plt\n",
    "\n",
    "import tensorflow as tf\n",
    "from keras import initializers\n",
    "from keras import backend as K\n",
    "from keras.models import Model\n",
    "from keras.optimizers import SGD, Adam\n",
    "from keras.layers import Input, Conv2D, MaxPooling2D, Reshape, Bidirectional, LSTM, Dense, Lambda, Activation, BatchNormalization, Dropout"
   ]
  },
  {
   "cell_type": "code",
   "execution_count": 8,
   "metadata": {},
   "outputs": [
    {
     "name": "stdout",
     "output_type": "stream",
     "text": [
      "Model: \"model\"\n",
      "_________________________________________________________________\n",
      " Layer (type)                Output Shape              Param #   \n",
      "=================================================================\n",
      " INPUT (InputLayer)          [(None, 256, 60, 1)]      0         \n",
      "                                                                 \n",
      " CONV1 (Conv2D)              (None, 256, 60, 32)       320       \n",
      "                                                                 \n",
      " batch_normalization (BatchN  (None, 256, 60, 32)      128       \n",
      " ormalization)                                                   \n",
      "                                                                 \n",
      " activation (Activation)     (None, 256, 60, 32)       0         \n",
      "                                                                 \n",
      " POOL1 (MaxPooling2D)        (None, 128, 30, 32)       0         \n",
      "                                                                 \n",
      " CONV2 (Conv2D)              (None, 128, 30, 64)       18496     \n",
      "                                                                 \n",
      " batch_normalization_1 (Batc  (None, 128, 30, 64)      256       \n",
      " hNormalization)                                                 \n",
      "                                                                 \n",
      " activation_1 (Activation)   (None, 128, 30, 64)       0         \n",
      "                                                                 \n",
      " POOL2 (MaxPooling2D)        (None, 64, 15, 64)        0         \n",
      "                                                                 \n",
      " dropout (Dropout)           (None, 64, 15, 64)        0         \n",
      "                                                                 \n",
      " CONV3 (Conv2D)              (None, 64, 15, 128)       73856     \n",
      "                                                                 \n",
      " batch_normalization_2 (Batc  (None, 64, 15, 128)      512       \n",
      " hNormalization)                                                 \n",
      "                                                                 \n",
      " activation_2 (Activation)   (None, 64, 15, 128)       0         \n",
      "                                                                 \n",
      " POOL3 (MaxPooling2D)        (None, 64, 7, 128)        0         \n",
      "                                                                 \n",
      " dropout_1 (Dropout)         (None, 64, 7, 128)        0         \n",
      "                                                                 \n",
      " reshape (Reshape)           (None, 64, 896)           0         \n",
      "                                                                 \n",
      " DENSE1 (Dense)              (None, 64, 64)            57408     \n",
      "                                                                 \n",
      " bidirectional (Bidirectiona  (None, 64, 512)          657408    \n",
      " l)                                                              \n",
      "                                                                 \n",
      " bidirectional_1 (Bidirectio  (None, 64, 512)          1574912   \n",
      " nal)                                                            \n",
      "                                                                 \n",
      " dense (Dense)               (None, 64, 30)            15390     \n",
      "                                                                 \n",
      " activation_3 (Activation)   (None, 64, 30)            0         \n",
      "                                                                 \n",
      "=================================================================\n",
      "Total params: 2,398,686\n",
      "Trainable params: 2,398,238\n",
      "Non-trainable params: 448\n",
      "_________________________________________________________________\n",
      "You must install pydot (`pip install pydot`) and install graphviz (see instructions at https://graphviz.gitlab.io/download/) for plot_model/model_to_dot to work.\n"
     ]
    }
   ],
   "source": [
    "# The aim of weight initialization is to prevent layer activation outputs from exploding or vanishing \n",
    "# during the course of a forward pass through a deep neural network.\n",
    "# https://www.projectpro.io/recipes/explain-with-example-he-normal-initializer-work\n",
    "\n",
    "input = Input(shape=(W, H, 1), name='INPUT')\n",
    "conv1 = Conv2D(32, kernel_size=(3,3), padding='same', kernel_initializer=initializers.HeNormal, name='CONV1')(input)\n",
    "conv1 = BatchNormalization()(conv1)\n",
    "conv1 = Activation('relu')(conv1)\n",
    "\n",
    "pool1 = MaxPooling2D(pool_size=(2,2), name='POOL1')(conv1)\n",
    "\n",
    "conv2 = Conv2D(64, kernel_size=(3,3), padding='same', kernel_initializer=initializers.HeNormal, name='CONV2')(pool1)\n",
    "conv2 = BatchNormalization()(conv2)\n",
    "conv2 = Activation('relu')(conv2)\n",
    "\n",
    "pool2 = MaxPooling2D(pool_size=(2,2), name='POOL2')(conv2)\n",
    "pool2 = Dropout(0.2)(pool2)\n",
    "\n",
    "conv3 = Conv2D(128, kernel_size=(3,3), kernel_initializer=initializers.HeNormal, padding='same', name='CONV3')(pool2)\n",
    "conv3 = BatchNormalization()(conv3)\n",
    "conv3 = Activation('relu')(conv3)\n",
    "\n",
    "pool3 = MaxPooling2D(pool_size=(1,2), name='POOL3')(conv3)\n",
    "pool3 = Dropout(0.2)(pool3)\n",
    "\n",
    "# layers = Conv2D(256, kernel_size=(3,3), padding='same', kernel_initializer=initializers.HeNormal, name='CONV4')(layers)\n",
    "# layers = BatchNormalization()(layers)\n",
    "# layers = Activation('relu')(layers)\n",
    "\n",
    "# pool4 = MaxPooling2D(pool_size=(1,2), name='POOL4')(pool3)\n",
    "# pool4 = Dropout(0.2)(pool4)\n",
    "\n",
    "# conv4 = Conv2D(64, kernel_size=(3,3), padding='same', name='CONV4')(pool3)\n",
    "# conv4 = BatchNormalization()(conv4)\n",
    "# conv4 = Activation('relu')(conv4)\n",
    "\n",
    "# pool4 = MaxPooling2D(pool_size=(1,2), name='POOL5s')(conv4)\n",
    "# pool4 = Dropout(0.2)(pool4)\n",
    "\n",
    "# #RNN\n",
    "layers = Reshape(target_shape=(64, 896))(pool3)\n",
    "layers = Dense(64, activation='relu', kernel_initializer=initializers.HeNormal, name='DENSE1')(layers)\n",
    "\n",
    "layers = Bidirectional(LSTM(256, return_sequences=True, name='LSTM'))(layers)\n",
    "layers = Bidirectional(LSTM(256, return_sequences=True, name='LSTM2'))(layers)\n",
    "# layers = Bidirectional(LSTM(128, return_sequences=True, name='LSTM3'))(layers)\n",
    "\n",
    "layers = Dense(UnitClass, kernel_initializer=initializers.HeNormal)(layers)\n",
    "y_pred = Activation('softmax')(layers)\n",
    "# y_pred = Dense(conf.UnitClass, activation='softmax', kernel_initializer=initializers.HeNormal, name='OUTPUT')(layers)\n",
    "# y_pred = Bidirectional(LSTM(const.UnitClass, activation='softmax'))(layers)\n",
    "\n",
    "model = Model(inputs=input, outputs=y_pred)\n",
    "model.summary()\n",
    "tf.keras.utils.plot_model(model)"
   ]
  },
  {
   "cell_type": "code",
   "execution_count": 9,
   "metadata": {},
   "outputs": [],
   "source": [
    "# https://github.com/GireeshS22/Handwriting-CNN-LSTM/blob/master/time_distributed_cnn_lstm_test.py\n",
    "\n",
    "# Define these Input labels required for ctc\n",
    "labels = Input(name='labels', shape=[MaxInputCharLen], dtype='float32')\n",
    "input_len = Input(shape=[1], dtype='int64')\n",
    "label_len= Input(shape=[1], dtype='int64')\n",
    "\n",
    "train_input_len, valid_input_len = np.ones([TRAIN_SIZE, 1]) * CTCTime, np.ones([VALID_SIZE, 1]) * CTCTime\n",
    "train_output = np.zeros([TRAIN_SIZE])\n",
    "valid_output = np.zeros([VALID_SIZE])\n",
    "\n",
    "# Get the target label\n",
    "y_train, y_train_len = label(df_train, TRAIN_SIZE, MaxInputCharLen, 'IDENTITY')\n",
    "y_valid, y_valid_len = label(df_valid, VALID_SIZE, MaxInputCharLen, 'IDENTITY')\n",
    "\n",
    "# Since RNNs are powerful for sequence learning, they require pre-segmented training data, \n",
    "# Each character in the label needs to be aligned to it location of occurrence in the input image.\n",
    "# Post-processing techniques are required on the output of RNN, which is a probability matrix, to transform it to the actual sequence of labels. \n",
    "# Connectionist Temporal Classification (CTC) is used to get those jobs above done. \n",
    "def ctc_loss_func(args):\n",
    "    y_pred, y_true, input_len, label_len = args\n",
    "    # the 2 is critical here since the first couple outputs of the RNN tend to be garbage.\n",
    "    y_pred = y_pred[:,2:,:]\n",
    "    return K.ctc_batch_cost(y_true, y_pred, input_len, label_len)\n",
    "\n",
    "# y_pred : the model of its prediction\n",
    "ctc = Lambda(ctc_loss_func, output_shape=(1,), name='ctc')([y_pred, labels, input_len, label_len]) "
   ]
  },
  {
   "cell_type": "code",
   "execution_count": 10,
   "metadata": {},
   "outputs": [],
   "source": [
    "# Create new model implement with ctc ouput\n",
    "model_ = Model(inputs=[input, labels, input_len, label_len], outputs=ctc)"
   ]
  },
  {
   "cell_type": "code",
   "execution_count": 11,
   "metadata": {},
   "outputs": [],
   "source": [
    "class MyCallback(tf.keras.callbacks.Callback):\n",
    "  def on_epoch_end(self, epoch, logs={}):\n",
    "    if(logs.get('val_loss'))<2.04:\n",
    "      print('\\nReached 2% validation_loss so cancel the training')\n",
    "      self.model.stop_training = True\n",
    "\n",
    "# Define model\n",
    "callbacks=MyCallback()"
   ]
  },
  {
   "cell_type": "code",
   "execution_count": 12,
   "metadata": {},
   "outputs": [
    {
     "name": "stdout",
     "output_type": "stream",
     "text": [
      "Epoch 1/20\n",
      "235/235 [==============================] - 1641s 7s/step - loss: 21.4761 - val_loss: 20.5210\n",
      "Epoch 2/20\n",
      "235/235 [==============================] - 1621s 7s/step - loss: 17.0479 - val_loss: 18.7093\n",
      "Epoch 3/20\n",
      "235/235 [==============================] - 1566s 7s/step - loss: 5.8196 - val_loss: 20.4614\n",
      "Epoch 4/20\n",
      "235/235 [==============================] - 1612s 7s/step - loss: 3.3037 - val_loss: 3.1440\n",
      "Epoch 5/20\n",
      "235/235 [==============================] - 1807s 8s/step - loss: 2.5631 - val_loss: 2.5596\n",
      "Epoch 6/20\n",
      "235/235 [==============================] - 1589s 7s/step - loss: 2.2182 - val_loss: 2.6959\n",
      "Epoch 7/20\n",
      "235/235 [==============================] - 1683s 7s/step - loss: 2.0178 - val_loss: 8.6830\n",
      "Epoch 8/20\n",
      "235/235 [==============================] - 1657s 7s/step - loss: 1.9130 - val_loss: 4.4925\n",
      "Epoch 9/20\n",
      "235/235 [==============================] - 1610s 7s/step - loss: 1.7304 - val_loss: 2.1475\n",
      "Epoch 10/20\n",
      "235/235 [==============================] - 1600s 7s/step - loss: 1.6210 - val_loss: 2.3501\n",
      "Epoch 11/20\n",
      "235/235 [==============================] - ETA: 0s - loss: 1.5248\n",
      "Reached 2% validation_loss so cancel the training\n",
      "235/235 [==============================] - 1636s 7s/step - loss: 1.5248 - val_loss: 1.9363\n"
     ]
    },
    {
     "data": {
      "text/plain": [
       "<keras.callbacks.History at 0x1799a353970>"
      ]
     },
     "execution_count": 12,
     "metadata": {},
     "output_type": "execute_result"
    }
   ],
   "source": [
    "# from tensorflow.keras.callbacks import ModelCheckpoint, EarlyStopping\n",
    "\n",
    "# checkpoint = ModelCheckpoint(monitor='val_loss', verbose=1, save_best_only=True, save_weights_only=False, mode='auto', period=1)\n",
    "# early = EarlyStopping(monitor='val_loss', min_delta=0, patience=40, verbose=1, mode='auto')\n",
    "# sgd = SGD(lr=0.02, decay=1e-6, momentum=0.9, nesterov=True, clipnorm=5)\n",
    "\n",
    "adam = Adam(learning_rate=0.001)\n",
    "\n",
    "model_.compile(\n",
    "    loss={\n",
    "        'ctc': lambda y_true, y_pred: y_pred\n",
    "    },\n",
    "    optimizer=adam\n",
    ")\n",
    "\n",
    "model_.fit(x=[X_train, y_train, train_input_len, y_train_len], y=train_output,\n",
    "            validation_data=([X_valid, y_valid, valid_input_len, y_valid_len], valid_output),\n",
    "            epochs=EPOCH, batch_size=BATCH_SIZE, callbacks=callbacks)\n"
   ]
  },
  {
   "cell_type": "markdown",
   "metadata": {},
   "source": [
    "## Predict"
   ]
  },
  {
   "cell_type": "code",
   "execution_count": 37,
   "metadata": {},
   "outputs": [],
   "source": [
    "def predict(model, x_, size):\n",
    "    # try predict the data\n",
    "    pred = model.predict(x_)\n",
    "    # var to sum up the total of the given input\n",
    "    input_len = np.ones(pred.shape[0]) * pred.shape[1]\n",
    "    # read the value of the variable of ctc we trained before, then decode the prediction\n",
    "    decoded = K.get_value(K.ctc_decode(pred, input_length=input_len)[0][0])\n",
    "    \n",
    "    preds = []\n",
    "    for i in range(size):\n",
    "        decoded_name = label_name(decoded[i], name_to_num=False)\n",
    "        preds.append(decoded_name)\n",
    "    \n",
    "    return preds\n",
    "\n",
    "def prediction_accuracy_metrics(data, preds, size, features):\n",
    "    valid_feature_names = data.loc[:size, features]\n",
    "    \n",
    "    corr_words = 0 # init var to check if model has predicted correct name\n",
    "    corr_char = 0 # init var to check if the model has guessed correctly the character of each names\n",
    "    total_char = 0\n",
    "    for i in range(size): # loop validation set\n",
    "        # Check and compare decoded predicted name with the true name of the validation set \n",
    "        valid_features = valid_feature_names[i]\n",
    "        preds_features = preds[i]\n",
    "        total_char += len(valid_features)\n",
    "        for j in range(min(len(valid_features), len(preds_features))):\n",
    "            if valid_features[j] == preds_features[j]:\n",
    "                corr_char += 1\n",
    "\n",
    "        if(valid_features.strip()==preds_features.strip()):\n",
    "            corr_words += 1\n",
    "\n",
    "    print('total character : ', total_char)\n",
    "    char_predict_accuracy = float(corr_char*100/total_char)\n",
    "    word_predict_accuracy = float(corr_words*100/size)\n",
    "    return char_predict_accuracy, word_predict_accuracy"
   ]
  },
  {
   "cell_type": "code",
   "execution_count": 38,
   "metadata": {},
   "outputs": [
    {
     "name": "stdout",
     "output_type": "stream",
     "text": [
      "94/94 [==============================] - 71s 749ms/step\n",
      "total character :  19678\n",
      "{'Accuracy of char prediction : ': 91.93515601178981, 'Accurancy of word prediction : ': 77.53333333333333}\n"
     ]
    }
   ],
   "source": [
    "valid_preds = predict(model, X_valid, VALID_SIZE)\n",
    "valid_char_acc, valid_word_acc = prediction_accuracy_metrics(df_valid, valid_preds, VALID_SIZE, 'IDENTITY')\n",
    "dicts = {\n",
    "    \"Accuracy of char prediction : \" : valid_char_acc,\n",
    "    \"Accurancy of word prediction : \" : valid_word_acc\n",
    "}\n",
    "print(dicts)"
   ]
  },
  {
   "cell_type": "code",
   "execution_count": 16,
   "metadata": {},
   "outputs": [
    {
     "name": "stdout",
     "output_type": "stream",
     "text": [
      "1/1 [==============================] - 0s 85ms/step\n",
      "KEVIN                                                           \n",
      "1/1 [==============================] - 0s 78ms/step\n",
      "EO                                                              \n",
      "1/1 [==============================] - 0s 82ms/step\n",
      "LENA                                                            \n",
      "1/1 [==============================] - 0s 82ms/step\n",
      "JULES                                                           \n",
      "1/1 [==============================] - 0s 69ms/step\n",
      "CHERPIN                                                         \n",
      "1/1 [==============================] - 0s 70ms/step\n",
      "MARTIN                                                          \n",
      "1/1 [==============================] - 0s 71ms/step\n",
      "VALENTINE                                                       \n",
      "1/1 [==============================] - 0s 69ms/step\n",
      "LORAS                                                           \n",
      "1/1 [==============================] - 0s 68ms/step\n",
      "THIBAULT                                                        \n",
      "1/1 [==============================] - 0s 71ms/step\n",
      "AZABY                                                           \n"
     ]
    },
    {
     "data": {
      "image/png": "[encoded data removed]",
      "text/plain": [
       "<Figure size 1440x144 with 10 Axes>"
      ]
     },
     "metadata": {
      "needs_background": "light"
     },
     "output_type": "display_data"
    }
   ],
   "source": [
    "plt.figure(figsize=(20, 2))\n",
    "for i in range(10):\n",
    "    # show test image\n",
    "    ax = plt.subplot(2, 5, i+1)\n",
    "    img_dir = os.path.join(test_dir, df_test.loc[i, 'FILENAME'])\n",
    "    img = cv2.imread(img_dir, cv2.IMREAD_GRAYSCALE)\n",
    "    plt.imshow(img)\n",
    "    \n",
    "    # show predicted names\n",
    "    image = crop_image(img, dim=(H, W))\n",
    "    image = image/255.\n",
    "    pred = model.predict(image.reshape(1, W, H, 1))\n",
    "\n",
    "    # pred = model.predict(X_test)\n",
    "    input_len = np.ones(pred.shape[0]) * pred.shape[1]\n",
    "    decoded = K.get_value(K.ctc_decode(pred, input_length=input_len, greedy=True)[0][0]) # decode the predicted names\n",
    "    print(label_name(decoded[0], name_to_num=False))\n",
    "    plt.title(label_name(decoded[0], name_to_num=False)) # Convert the decoded to be name string\n",
    "    plt.axis('off')\n",
    "\n",
    "# Adjust plot space\n",
    "plt.subplots_adjust(wspace=0.1, hspace=0.4)"
   ]
  },
  {
   "cell_type": "markdown",
   "metadata": {},
   "source": [
    "1. SIZE {train = 30000, valid = 3000, test = 100 }; OPT = ADAM; EPOCH = 5 (N-5 VAL LOSS = 4.0813); BATCH = 128; 3 CONV 2 BI-LSTM(256); ACC = 79.45%\n",
    "2. SIZE {train = 30000, valid = 3000, test = 100 }; OPT = ADAM; EPOCH = 8 (N-8 LOSS = 1.83 w/ callback if val_loss < 3.0); BATCH = 128; 3 CONV(kernel_init = HeNormal) 2 BI-LSTM(256); ACC = 82.89%\n",
    "3. SIZE {train = 30000, valid = 3000, test = 100 }; OPT = ADAM; EPOCH = 20 (N-10 LOSS = 1.69 val_loss=1.96 w/ callback if val_loss < 2.04); BATCH = 128; 3 CONV(kernel_init = HeNormal) 3 POOL(Last 2 pools has dropout=0.2) 2 BI-LSTM(256); VALID__CHAR_ACC = 91%, TESTING_CHAR_ACC = 91% "
   ]
  },
  {
   "cell_type": "code",
   "execution_count": 39,
   "metadata": {},
   "outputs": [
    {
     "name": "stdout",
     "output_type": "stream",
     "text": [
      "94/94 [==============================] - 65s 690ms/step\n",
      "total character :  19564\n",
      "{'Accuracy of char prediction : ': 91.42813330607238, 'Accurancy of word prediction : ': 75.93333333333334}\n"
     ]
    }
   ],
   "source": [
    "test_preds = predict(model, X_test, TEST_SIZE)\n",
    "test_char_acc, test_word_acc = prediction_accuracy_metrics(df_test, test_preds, TEST_SIZE, 'IDENTITY')\n",
    "test_dicts = {\n",
    "    \"Accuracy of char prediction : \" : test_char_acc,\n",
    "    \"Accurancy of word prediction : \" : test_word_acc\n",
    "}\n",
    "print(test_dicts)"
   ]
  }
 ],
 "metadata": {
  "kernelspec": {
   "display_name": "Python 3.9.7 ('base')",
   "language": "python",
   "name": "python3"
  },
  "language_info": {
   "codemirror_mode": {
    "name": "ipython",
    "version": 3
   },
   "file_extension": ".py",
   "mimetype": "text/x-python",
   "name": "python",
   "nbconvert_exporter": "python",
   "pygments_lexer": "ipython3",
   "version": "3.9.7"
  },
  "orig_nbformat": 4,
  "vscode": {
   "interpreter": {
    "hash": "8dbf1d3937cd9af2ec7a992e3a66647a7d94267f9ee808a22d5489bdc356721a"
   }
  }
 },
 "nbformat": 4,
 "nbformat_minor": 2
}
